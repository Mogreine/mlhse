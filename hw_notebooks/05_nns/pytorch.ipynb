{
 "cells": [
  {
   "cell_type": "code",
   "execution_count": 1,
   "metadata": {},
   "outputs": [],
   "source": [
    "import numpy as np"
   ]
  },
  {
   "cell_type": "markdown",
   "metadata": {},
   "source": [
    "### Tensors"
   ]
  },
  {
   "cell_type": "code",
   "execution_count": 2,
   "metadata": {},
   "outputs": [],
   "source": [
    "import torch"
   ]
  },
  {
   "cell_type": "markdown",
   "metadata": {},
   "source": [
    "#### Создание"
   ]
  },
  {
   "cell_type": "code",
   "execution_count": 3,
   "metadata": {},
   "outputs": [],
   "source": [
    "np_array = np.ones((2, 3, 4))\n",
    "tensor = torch.from_numpy(np_array)"
   ]
  },
  {
   "cell_type": "code",
   "execution_count": 4,
   "metadata": {},
   "outputs": [],
   "source": [
    "tensor = torch.Tensor(np_array)"
   ]
  },
  {
   "cell_type": "code",
   "execution_count": 5,
   "metadata": {},
   "outputs": [],
   "source": [
    "ones = torch.ones((4, 5))"
   ]
  },
  {
   "cell_type": "code",
   "execution_count": 6,
   "metadata": {},
   "outputs": [],
   "source": [
    "random_noise = torch.randn((4, 5))"
   ]
  },
  {
   "cell_type": "markdown",
   "metadata": {},
   "source": [
    "#### Операции"
   ]
  },
  {
   "cell_type": "code",
   "execution_count": 7,
   "metadata": {},
   "outputs": [
    {
     "data": {
      "text/plain": [
       "tensor([[[-0.2058, -0.5395,  1.3968,  0.3095, -1.1482],\n",
       "         [-0.2058, -0.5395,  1.3968,  0.3095, -1.1482],\n",
       "         [-0.2058, -0.5395,  1.3968,  0.3095, -1.1482]],\n",
       "\n",
       "        [[-0.2058, -0.5395,  1.3968,  0.3095, -1.1482],\n",
       "         [-0.2058, -0.5395,  1.3968,  0.3095, -1.1482],\n",
       "         [-0.2058, -0.5395,  1.3968,  0.3095, -1.1482]]])"
      ]
     },
     "execution_count": 7,
     "metadata": {},
     "output_type": "execute_result"
    }
   ],
   "source": [
    "tensor.matmul(random_noise)"
   ]
  },
  {
   "cell_type": "code",
   "execution_count": 8,
   "metadata": {},
   "outputs": [
    {
     "data": {
      "text/plain": [
       "tensor([[[ 0.9890, -0.6741, -1.4487, -1.8316],\n",
       "         [-0.2505, -0.9976, -0.2403, -1.0570],\n",
       "         [ 0.4739,  0.0712,  1.0556,  0.0382]],\n",
       "\n",
       "        [[-2.2617,  0.7725, -0.3195, -0.0107],\n",
       "         [ 1.4274, -0.8164, -1.2990,  2.2315],\n",
       "         [-0.3798, -1.3372,  0.9657, -0.5033]]])"
      ]
     },
     "execution_count": 8,
     "metadata": {},
     "output_type": "execute_result"
    }
   ],
   "source": [
    "tensor * torch.randn(tensor.size())"
   ]
  },
  {
   "cell_type": "code",
   "execution_count": 9,
   "metadata": {},
   "outputs": [
    {
     "name": "stdout",
     "output_type": "stream",
     "text": [
      "tensor([[[-0.3009, -1.3345,  0.6912,  0.5324],\n",
      "         [-1.5525, -0.5960,  0.2536,  0.1557],\n",
      "         [-1.1714, -0.8189, -1.3273,  0.2471]],\n",
      "\n",
      "        [[ 1.3186,  0.4410, -1.0924,  1.4364],\n",
      "         [-0.7682, -0.9812, -0.4446, -1.2994],\n",
      "         [ 2.1268, -1.3170, -0.8610,  0.4628]]])\n"
     ]
    }
   ],
   "source": [
    "tensor = torch.Tensor(np_array)\n",
    "tensor.mul_(torch.randn(tensor.size()))\n",
    "print(tensor)"
   ]
  },
  {
   "cell_type": "code",
   "execution_count": 10,
   "metadata": {},
   "outputs": [
    {
     "data": {
      "text/plain": [
       "tensor([[-3.0248, -2.7494, -0.3825,  0.9353],\n",
       "        [ 2.6771, -1.8572, -2.3980,  0.5998]])"
      ]
     },
     "execution_count": 10,
     "metadata": {},
     "output_type": "execute_result"
    }
   ],
   "source": [
    "tensor.sum(dim=1)"
   ]
  },
  {
   "cell_type": "code",
   "execution_count": 11,
   "metadata": {},
   "outputs": [
    {
     "data": {
      "text/plain": [
       "torch.return_types.max(\n",
       "values=tensor([[ 0.6912,  0.2536,  0.2471],\n",
       "        [ 1.4364, -0.4446,  2.1268]]),\n",
       "indices=tensor([[2, 2, 3],\n",
       "        [3, 2, 0]]))"
      ]
     },
     "execution_count": 11,
     "metadata": {},
     "output_type": "execute_result"
    }
   ],
   "source": [
    "tensor.max(dim=2)"
   ]
  },
  {
   "cell_type": "code",
   "execution_count": 12,
   "metadata": {},
   "outputs": [
    {
     "data": {
      "text/plain": [
       "tensor([[ 0.6912,  0.2536,  0.2471],\n",
       "        [ 1.4364, -0.4446,  2.1268]])"
      ]
     },
     "execution_count": 12,
     "metadata": {},
     "output_type": "execute_result"
    }
   ],
   "source": [
    "tensor.max(dim=2).values"
   ]
  },
  {
   "cell_type": "markdown",
   "metadata": {},
   "source": [
    "#### Индексирование"
   ]
  },
  {
   "cell_type": "code",
   "execution_count": 13,
   "metadata": {},
   "outputs": [
    {
     "data": {
      "text/plain": [
       "tensor([[ 1.3186, -1.0924],\n",
       "        [-0.7682, -0.4446],\n",
       "        [ 2.1268, -0.8610]])"
      ]
     },
     "execution_count": 13,
     "metadata": {},
     "output_type": "execute_result"
    }
   ],
   "source": [
    "tensor[1, :, ::2]"
   ]
  },
  {
   "cell_type": "code",
   "execution_count": 14,
   "metadata": {},
   "outputs": [
    {
     "ename": "ValueError",
     "evalue": "negative step not yet supported",
     "output_type": "error",
     "traceback": [
      "\u001b[1;31m---------------------------------------------------------------------------\u001b[0m",
      "\u001b[1;31mValueError\u001b[0m                                Traceback (most recent call last)",
      "\u001b[1;32m<ipython-input-14-f2641e46e945>\u001b[0m in \u001b[0;36m<module>\u001b[1;34m\u001b[0m\n\u001b[1;32m----> 1\u001b[1;33m \u001b[0mtensor\u001b[0m\u001b[1;33m[\u001b[0m\u001b[1;33m:\u001b[0m\u001b[1;33m:\u001b[0m\u001b[1;33m-\u001b[0m\u001b[1;36m1\u001b[0m\u001b[1;33m]\u001b[0m\u001b[1;33m\u001b[0m\u001b[1;33m\u001b[0m\u001b[0m\n\u001b[0m",
      "\u001b[1;31mValueError\u001b[0m: negative step not yet supported"
     ]
    }
   ],
   "source": [
    "tensor[::-1]"
   ]
  },
  {
   "cell_type": "code",
   "execution_count": 15,
   "metadata": {},
   "outputs": [
    {
     "data": {
      "text/plain": [
       "tensor([[[-0.3009, -1.3345,  0.6912,  0.5324],\n",
       "         [-1.5525, -0.5960,  0.2536,  0.1557],\n",
       "         [-1.1714, -0.8189, -1.3273,  0.2471]],\n",
       "\n",
       "        [[ 1.3186,  0.4410, -1.0924,  1.4364],\n",
       "         [-0.7682, -0.9812, -0.4446, -1.2994],\n",
       "         [ 2.1268, -1.3170, -0.8610,  0.4628]]])"
      ]
     },
     "execution_count": 15,
     "metadata": {},
     "output_type": "execute_result"
    }
   ],
   "source": [
    "ids = [0, 1]\n",
    "tensor[ids]"
   ]
  },
  {
   "cell_type": "code",
   "execution_count": 16,
   "metadata": {},
   "outputs": [
    {
     "data": {
      "text/plain": [
       "tensor([[[-0.3009, -1.3345,  0.6912,  0.5324],\n",
       "         [-1.5525, -0.5960,  0.2536,  0.1557]],\n",
       "\n",
       "        [[ 1.3186,  0.4410, -1.0924,  1.4364],\n",
       "         [-0.7682, -0.9812, -0.4446, -1.2994]]])"
      ]
     },
     "execution_count": 16,
     "metadata": {},
     "output_type": "execute_result"
    }
   ],
   "source": [
    "tensor[:, ids]"
   ]
  },
  {
   "cell_type": "markdown",
   "metadata": {},
   "source": [
    "#### Изменение размерности"
   ]
  },
  {
   "cell_type": "code",
   "execution_count": 17,
   "metadata": {},
   "outputs": [
    {
     "data": {
      "text/plain": [
       "tensor([[-0.3009, -1.3345],\n",
       "        [ 0.6912,  0.5324],\n",
       "        [-1.5525, -0.5960],\n",
       "        [ 0.2536,  0.1557],\n",
       "        [-1.1714, -0.8189],\n",
       "        [-1.3273,  0.2471],\n",
       "        [ 1.3186,  0.4410],\n",
       "        [-1.0924,  1.4364],\n",
       "        [-0.7682, -0.9812],\n",
       "        [-0.4446, -1.2994],\n",
       "        [ 2.1268, -1.3170],\n",
       "        [-0.8610,  0.4628]])"
      ]
     },
     "execution_count": 17,
     "metadata": {},
     "output_type": "execute_result"
    }
   ],
   "source": [
    "tensor.view(-1, 2)"
   ]
  },
  {
   "cell_type": "code",
   "execution_count": 18,
   "metadata": {},
   "outputs": [
    {
     "data": {
      "text/plain": [
       "tensor([[[1., 1., 1., 1.],\n",
       "         [1., 1., 1., 1.],\n",
       "         [1., 1., 1., 1.]],\n",
       "\n",
       "        [[1., 1., 1., 1.],\n",
       "         [1., 1., 1., 1.],\n",
       "         [1., 1., 1., 1.]]])"
      ]
     },
     "execution_count": 18,
     "metadata": {},
     "output_type": "execute_result"
    }
   ],
   "source": [
    "torch.ones((1, 1, 1)).expand_as(tensor)"
   ]
  },
  {
   "cell_type": "code",
   "execution_count": 19,
   "metadata": {},
   "outputs": [
    {
     "data": {
      "text/plain": [
       "tensor([[[1., 1., 1., 1.],\n",
       "         [1., 1., 1., 1.],\n",
       "         [1., 1., 1., 1.]],\n",
       "\n",
       "        [[1., 1., 1., 1.],\n",
       "         [1., 1., 1., 1.],\n",
       "         [1., 1., 1., 1.]]])"
      ]
     },
     "execution_count": 19,
     "metadata": {},
     "output_type": "execute_result"
    }
   ],
   "source": [
    "torch.ones((1, 1, 1)).expand(tensor.size())"
   ]
  },
  {
   "cell_type": "code",
   "execution_count": 20,
   "metadata": {
    "scrolled": true
   },
   "outputs": [
    {
     "data": {
      "text/plain": [
       "tensor([[[[-0.3009],\n",
       "          [-1.3345],\n",
       "          [ 0.6912],\n",
       "          [ 0.5324]],\n",
       "\n",
       "         [[-1.5525],\n",
       "          [-0.5960],\n",
       "          [ 0.2536],\n",
       "          [ 0.1557]],\n",
       "\n",
       "         [[-1.1714],\n",
       "          [-0.8189],\n",
       "          [-1.3273],\n",
       "          [ 0.2471]]],\n",
       "\n",
       "\n",
       "        [[[ 1.3186],\n",
       "          [ 0.4410],\n",
       "          [-1.0924],\n",
       "          [ 1.4364]],\n",
       "\n",
       "         [[-0.7682],\n",
       "          [-0.9812],\n",
       "          [-0.4446],\n",
       "          [-1.2994]],\n",
       "\n",
       "         [[ 2.1268],\n",
       "          [-1.3170],\n",
       "          [-0.8610],\n",
       "          [ 0.4628]]]])"
      ]
     },
     "execution_count": 20,
     "metadata": {},
     "output_type": "execute_result"
    }
   ],
   "source": [
    "tensor.unsqueeze(dim=-1)"
   ]
  },
  {
   "cell_type": "markdown",
   "metadata": {},
   "source": [
    "### Modules"
   ]
  },
  {
   "cell_type": "markdown",
   "metadata": {},
   "source": [
    "#### Слои"
   ]
  },
  {
   "cell_type": "code",
   "execution_count": 21,
   "metadata": {},
   "outputs": [],
   "source": [
    "from torch import nn"
   ]
  },
  {
   "cell_type": "code",
   "execution_count": 22,
   "metadata": {},
   "outputs": [
    {
     "data": {
      "text/plain": [
       "tensor([[-0.6460,  1.3884,  0.5065,  0.0853],\n",
       "        [-0.6460,  1.3884,  0.5065,  0.0853],\n",
       "        [-0.6460,  1.3884,  0.5065,  0.0853],\n",
       "        [-0.6460,  1.3884,  0.5065,  0.0853],\n",
       "        [-0.6460,  1.3884,  0.5065,  0.0853],\n",
       "        [-0.6460,  1.3884,  0.5065,  0.0853],\n",
       "        [-0.6460,  1.3884,  0.5065,  0.0853],\n",
       "        [-0.6460,  1.3884,  0.5065,  0.0853]], grad_fn=<AddmmBackward>)"
      ]
     },
     "execution_count": 22,
     "metadata": {},
     "output_type": "execute_result"
    }
   ],
   "source": [
    "module = nn.Linear(32, 4)\n",
    "x = torch.ones(8, 32)\n",
    "module(x)"
   ]
  },
  {
   "cell_type": "code",
   "execution_count": 23,
   "metadata": {
    "scrolled": true
   },
   "outputs": [
    {
     "data": {
      "text/plain": [
       "tensor([[[[-0.1626, -0.1626, -0.1626, -0.1626, -0.1626, -0.1626, -0.1626],\n",
       "          [-0.1626, -0.1626, -0.1626, -0.1626, -0.1626, -0.1626, -0.1626],\n",
       "          [-0.1626, -0.1626, -0.1626, -0.1626, -0.1626, -0.1626, -0.1626],\n",
       "          [-0.1626, -0.1626, -0.1626, -0.1626, -0.1626, -0.1626, -0.1626],\n",
       "          [-0.1626, -0.1626, -0.1626, -0.1626, -0.1626, -0.1626, -0.1626],\n",
       "          [-0.1626, -0.1626, -0.1626, -0.1626, -0.1626, -0.1626, -0.1626],\n",
       "          [-0.1626, -0.1626, -0.1626, -0.1626, -0.1626, -0.1626, -0.1626]]],\n",
       "\n",
       "\n",
       "        [[[-0.1626, -0.1626, -0.1626, -0.1626, -0.1626, -0.1626, -0.1626],\n",
       "          [-0.1626, -0.1626, -0.1626, -0.1626, -0.1626, -0.1626, -0.1626],\n",
       "          [-0.1626, -0.1626, -0.1626, -0.1626, -0.1626, -0.1626, -0.1626],\n",
       "          [-0.1626, -0.1626, -0.1626, -0.1626, -0.1626, -0.1626, -0.1626],\n",
       "          [-0.1626, -0.1626, -0.1626, -0.1626, -0.1626, -0.1626, -0.1626],\n",
       "          [-0.1626, -0.1626, -0.1626, -0.1626, -0.1626, -0.1626, -0.1626],\n",
       "          [-0.1626, -0.1626, -0.1626, -0.1626, -0.1626, -0.1626, -0.1626]]],\n",
       "\n",
       "\n",
       "        [[[-0.1626, -0.1626, -0.1626, -0.1626, -0.1626, -0.1626, -0.1626],\n",
       "          [-0.1626, -0.1626, -0.1626, -0.1626, -0.1626, -0.1626, -0.1626],\n",
       "          [-0.1626, -0.1626, -0.1626, -0.1626, -0.1626, -0.1626, -0.1626],\n",
       "          [-0.1626, -0.1626, -0.1626, -0.1626, -0.1626, -0.1626, -0.1626],\n",
       "          [-0.1626, -0.1626, -0.1626, -0.1626, -0.1626, -0.1626, -0.1626],\n",
       "          [-0.1626, -0.1626, -0.1626, -0.1626, -0.1626, -0.1626, -0.1626],\n",
       "          [-0.1626, -0.1626, -0.1626, -0.1626, -0.1626, -0.1626, -0.1626]]],\n",
       "\n",
       "\n",
       "        [[[-0.1626, -0.1626, -0.1626, -0.1626, -0.1626, -0.1626, -0.1626],\n",
       "          [-0.1626, -0.1626, -0.1626, -0.1626, -0.1626, -0.1626, -0.1626],\n",
       "          [-0.1626, -0.1626, -0.1626, -0.1626, -0.1626, -0.1626, -0.1626],\n",
       "          [-0.1626, -0.1626, -0.1626, -0.1626, -0.1626, -0.1626, -0.1626],\n",
       "          [-0.1626, -0.1626, -0.1626, -0.1626, -0.1626, -0.1626, -0.1626],\n",
       "          [-0.1626, -0.1626, -0.1626, -0.1626, -0.1626, -0.1626, -0.1626],\n",
       "          [-0.1626, -0.1626, -0.1626, -0.1626, -0.1626, -0.1626, -0.1626]]]],\n",
       "       grad_fn=<ThnnConv2DBackward>)"
      ]
     },
     "execution_count": 23,
     "metadata": {},
     "output_type": "execute_result"
    }
   ],
   "source": [
    "module = nn.Conv2d(in_channels=3, out_channels=1, kernel_size=3, stride=2, padding=0)\n",
    "x = torch.ones(4, 3, 16, 16)\n",
    "module(x)"
   ]
  },
  {
   "cell_type": "code",
   "execution_count": 24,
   "metadata": {
    "scrolled": true
   },
   "outputs": [
    {
     "data": {
      "text/plain": [
       "(tensor([[[-0.1006, -0.1243,  0.0887, -0.0364],\n",
       "          [ 0.4701,  0.3409, -0.0989,  0.0762]],\n",
       " \n",
       "         [[ 0.0332,  0.5084,  0.0742, -0.0320],\n",
       "          [ 0.0306,  0.2747,  0.0095,  0.2098]],\n",
       " \n",
       "         [[-0.0961, -0.2063,  0.0252, -0.0782],\n",
       "          [-0.4615,  0.2112, -0.0349,  0.0207]],\n",
       " \n",
       "         [[-0.1228,  0.2185,  0.2231,  0.0074],\n",
       "          [-0.0503,  0.3854,  0.3831,  0.1057]],\n",
       " \n",
       "         [[ 0.1333,  0.1595,  0.1880,  0.3539],\n",
       "          [-0.0871,  0.4683,  0.2547,  0.2552]],\n",
       " \n",
       "         [[ 0.1231,  0.7234,  0.2073,  0.1378],\n",
       "          [-0.0786,  0.3389,  0.0278,  0.3095]],\n",
       " \n",
       "         [[ 0.0199,  0.1680,  0.3040,  0.0913],\n",
       "          [-0.0908,  0.5981,  0.1196,  0.1241]],\n",
       " \n",
       "         [[-0.1438,  0.0161,  0.1228,  0.1416],\n",
       "          [-0.0764,  0.2447, -0.0036,  0.2064]]], grad_fn=<StackBackward>),\n",
       " (tensor([[[-0.1438,  0.0161,  0.1228,  0.1416],\n",
       "           [-0.0764,  0.2447, -0.0036,  0.2064]]], grad_fn=<StackBackward>),\n",
       "  tensor([[[-0.6646,  0.0492,  0.2861,  0.3249],\n",
       "           [-0.2500,  0.7842, -0.0093,  0.4528]]], grad_fn=<StackBackward>)))"
      ]
     },
     "execution_count": 24,
     "metadata": {},
     "output_type": "execute_result"
    }
   ],
   "source": [
    "module = nn.LSTM(16, 4)\n",
    "x = torch.randn(8, 2, 16)\n",
    "hidden = (torch.zeros(1, 2, 4), torch.zeros(1, 2, 4))\n",
    "module(x, hidden)"
   ]
  },
  {
   "cell_type": "markdown",
   "metadata": {},
   "source": [
    "#### Функции активации"
   ]
  },
  {
   "cell_type": "code",
   "execution_count": 25,
   "metadata": {},
   "outputs": [
    {
     "data": {
      "text/plain": [
       "tensor([[0.0000, 0.0000, 0.0000, 0.0000, 0.9120, 0.0000, 0.0000, 0.0000],\n",
       "        [0.0000, 0.0000, 1.1568, 1.0758, 0.0000, 0.0000, 0.2487, 0.0138],\n",
       "        [0.0000, 0.2402, 0.4545, 0.0000, 0.0000, 0.0000, 0.9723, 0.0000],\n",
       "        [0.4152, 0.2211, 0.0000, 0.1564, 0.2877, 0.0000, 0.7656, 0.0000]])"
      ]
     },
     "execution_count": 25,
     "metadata": {},
     "output_type": "execute_result"
    }
   ],
   "source": [
    "module = nn.ReLU()\n",
    "x = torch.randn(4, 8)\n",
    "module(x)"
   ]
  },
  {
   "cell_type": "code",
   "execution_count": 26,
   "metadata": {},
   "outputs": [
    {
     "data": {
      "text/plain": [
       "tensor([[0.1008, 0.2789, 0.5763, 0.0465, 0.6777, 0.0482, 0.1968, 0.0551],\n",
       "        [0.0806, 0.0153, 0.9807, 0.8894, 0.2126, 0.8713, 0.2694, 0.4942],\n",
       "        [0.1634, 0.0244, 0.3606, 0.0542, 0.5941, 0.9906, 0.5000, 0.2282],\n",
       "        [0.0121, 0.3260, 0.0314, 0.9062, 0.6882, 0.7826, 0.1844, 0.7205]])"
      ]
     },
     "execution_count": 26,
     "metadata": {},
     "output_type": "execute_result"
    }
   ],
   "source": [
    "module = nn.Sigmoid()\n",
    "x = torch.randn(4, 8) * 2\n",
    "module(x)"
   ]
  },
  {
   "cell_type": "code",
   "execution_count": 27,
   "metadata": {},
   "outputs": [
    {
     "data": {
      "text/plain": [
       "tensor([[0.5781, 0.4219],\n",
       "        [0.4567, 0.5433],\n",
       "        [0.4038, 0.5962],\n",
       "        [0.4056, 0.5944],\n",
       "        [0.4548, 0.5452],\n",
       "        [0.5484, 0.4516],\n",
       "        [0.5176, 0.4824],\n",
       "        [0.5082, 0.4918],\n",
       "        [0.5389, 0.4611],\n",
       "        [0.5498, 0.4502],\n",
       "        [0.5227, 0.4773],\n",
       "        [0.4651, 0.5349],\n",
       "        [0.5026, 0.4974],\n",
       "        [0.4944, 0.5056],\n",
       "        [0.5225, 0.4775],\n",
       "        [0.4486, 0.5514],\n",
       "        [0.5048, 0.4952],\n",
       "        [0.4357, 0.5643],\n",
       "        [0.4677, 0.5323],\n",
       "        [0.5429, 0.4571],\n",
       "        [0.5075, 0.4925],\n",
       "        [0.4367, 0.5633],\n",
       "        [0.5236, 0.4764],\n",
       "        [0.5409, 0.4591],\n",
       "        [0.5396, 0.4604],\n",
       "        [0.3840, 0.6160],\n",
       "        [0.4730, 0.5270],\n",
       "        [0.3838, 0.6162],\n",
       "        [0.4182, 0.5818],\n",
       "        [0.5254, 0.4746],\n",
       "        [0.5009, 0.4991],\n",
       "        [0.4189, 0.5811]], grad_fn=<SoftmaxBackward>)"
      ]
     },
     "execution_count": 27,
     "metadata": {},
     "output_type": "execute_result"
    }
   ],
   "source": [
    "# W, b\n",
    "# Wx + b\n",
    "# X \\dot W^T + b\n",
    "\n",
    "\n",
    "module = nn.Sequential(\n",
    "    nn.Linear(4, 64),\n",
    "    nn.ReLU(),\n",
    "    nn.Linear(64, 2),\n",
    "    nn.Softmax(dim=-1)\n",
    ")\n",
    "x = torch.randn(32, 4)\n",
    "module(x)"
   ]
  },
  {
   "cell_type": "markdown",
   "metadata": {},
   "source": [
    "### Optimizers"
   ]
  },
  {
   "cell_type": "code",
   "execution_count": 28,
   "metadata": {},
   "outputs": [],
   "source": [
    "import torch.nn.functional as F\n",
    "from tqdm import tqdm\n",
    "import matplotlib.pyplot as plt"
   ]
  },
  {
   "cell_type": "code",
   "execution_count": 29,
   "metadata": {},
   "outputs": [],
   "source": [
    "network = nn.Sequential(\n",
    "    nn.Linear(4, 512),\n",
    "    nn.ReLU(),\n",
    "    nn.Linear(512, 2)\n",
    ")\n",
    "x = torch.randn(20000, 4)\n",
    "y = torch.randint(2, size=(20000,))"
   ]
  },
  {
   "cell_type": "code",
   "execution_count": 30,
   "metadata": {},
   "outputs": [],
   "source": [
    "optimizer = torch.optim.Adam(network.parameters())"
   ]
  },
  {
   "cell_type": "code",
   "execution_count": 31,
   "metadata": {},
   "outputs": [
    {
     "name": "stderr",
     "output_type": "stream",
     "text": [
      "100%|██████████████████████████████████████████████████████████████████████████████████| 40/40 [00:07<00:00,  5.71it/s]\n"
     ]
    },
    {
     "data": {
      "image/png": "[encoded data removed]",
      "text/plain": [
       "<Figure size 864x288 with 1 Axes>"
      ]
     },
     "metadata": {
      "needs_background": "light"
     },
     "output_type": "display_data"
    }
   ],
   "source": [
    "losses = []\n",
    "for i in tqdm(range(40)):\n",
    "    y_pred = network(x)\n",
    "    loss = F.cross_entropy(y_pred, y)\n",
    "    optimizer.zero_grad()\n",
    "    loss.backward()\n",
    "    optimizer.step()\n",
    "    losses.append(loss.item())\n",
    "\n",
    "plt.figure(figsize=(12,4))\n",
    "plt.plot(range(40), losses)\n",
    "plt.tight_layout()\n",
    "plt.show()"
   ]
  },
  {
   "cell_type": "code",
   "execution_count": 109,
   "metadata": {},
   "outputs": [
    {
     "name": "stderr",
     "output_type": "stream",
     "text": [
      "100%|██████████████████████████████████████████████████████████████████████████████████| 40/40 [00:06<00:00,  9.16it/s]\n"
     ]
    },
    {
     "data": {
      "image/png": "[encoded data removed]",
      "text/plain": [
       "<Figure size 864x288 with 1 Axes>"
      ]
     },
     "metadata": {
      "needs_background": "light"
     },
     "output_type": "display_data"
    }
   ],
   "source": [
    "network = nn.Sequential(\n",
    "    nn.Linear(4, 512),\n",
    "    nn.ReLU(),\n",
    "    nn.Linear(512, 2)\n",
    ")\n",
    "x = torch.randn(20000, 4)\n",
    "y = torch.randn(20000, 2)\n",
    "\n",
    "optimizer = torch.optim.Adam(network.parameters())\n",
    "\n",
    "losses = []\n",
    "for i in tqdm(range(40)):\n",
    "    y_pred = network(x)\n",
    "    loss = (y - y_pred).abs().mean()\n",
    "    optimizer.zero_grad()\n",
    "    loss.backward()\n",
    "    optimizer.step()\n",
    "    losses.append(loss.item())\n",
    "\n",
    "plt.figure(figsize=(12,4))\n",
    "plt.plot(range(40), losses)\n",
    "plt.tight_layout()\n",
    "plt.show()"
   ]
  },
  {
   "cell_type": "markdown",
   "metadata": {},
   "source": [
    "### GPU"
   ]
  },
  {
   "cell_type": "code",
   "execution_count": 110,
   "metadata": {},
   "outputs": [
    {
     "data": {
      "text/plain": [
       "tensor([[-0.2838,  1.8130,  1.0861,  ...,  0.7150,  0.2744, -0.4177],\n",
       "        [-0.7369, -0.4345,  1.0806,  ..., -0.6437, -2.0891, -1.5492],\n",
       "        [ 0.3744,  0.7226, -1.2852,  ..., -0.2159, -0.8410, -1.1127],\n",
       "        ...,\n",
       "        [ 0.7133, -0.9010,  0.6136,  ..., -0.8554, -1.4391,  0.1963],\n",
       "        [ 0.3922, -0.6315, -0.8124,  ..., -0.4189,  0.8195,  0.3393],\n",
       "        [ 0.7494,  0.7692, -0.7456,  ...,  0.8925,  1.1009,  0.5313]],\n",
       "       device='cuda:0')"
      ]
     },
     "execution_count": 110,
     "metadata": {},
     "output_type": "execute_result"
    }
   ],
   "source": [
    "torch.randn(32, 32).cuda()"
   ]
  },
  {
   "cell_type": "code",
   "execution_count": 111,
   "metadata": {},
   "outputs": [
    {
     "ename": "RuntimeError",
     "evalue": "expected device cuda:0 and dtype Float but got device cpu and dtype Float",
     "output_type": "error",
     "traceback": [
      "\u001b[1;31m---------------------------------------------------------------------------\u001b[0m",
      "\u001b[1;31mRuntimeError\u001b[0m                              Traceback (most recent call last)",
      "\u001b[1;32m<ipython-input-111-f826ea82faa2>\u001b[0m in \u001b[0;36m<module>\u001b[1;34m\u001b[0m\n\u001b[1;32m----> 1\u001b[1;33m \u001b[0mtorch\u001b[0m\u001b[1;33m.\u001b[0m\u001b[0mrandn\u001b[0m\u001b[1;33m(\u001b[0m\u001b[1;36m32\u001b[0m\u001b[1;33m,\u001b[0m \u001b[1;36m32\u001b[0m\u001b[1;33m)\u001b[0m\u001b[1;33m.\u001b[0m\u001b[0mcuda\u001b[0m\u001b[1;33m(\u001b[0m\u001b[1;33m)\u001b[0m \u001b[1;33m*\u001b[0m \u001b[0mtorch\u001b[0m\u001b[1;33m.\u001b[0m\u001b[0mrandn\u001b[0m\u001b[1;33m(\u001b[0m\u001b[1;36m32\u001b[0m\u001b[1;33m,\u001b[0m \u001b[1;36m32\u001b[0m\u001b[1;33m)\u001b[0m\u001b[1;33m\u001b[0m\u001b[1;33m\u001b[0m\u001b[0m\n\u001b[0m",
      "\u001b[1;31mRuntimeError\u001b[0m: expected device cuda:0 and dtype Float but got device cpu and dtype Float"
     ]
    }
   ],
   "source": [
    "torch.randn(32, 32).cuda() * torch.randn(32, 32)"
   ]
  },
  {
   "cell_type": "code",
   "execution_count": 113,
   "metadata": {},
   "outputs": [
    {
     "data": {
      "text/plain": [
       "tensor([[ 4.8918e-01, -1.4155e+00,  6.7461e-01,  ..., -7.3037e-01,\n",
       "          6.9769e-01, -6.3727e-01],\n",
       "        [-4.4008e-01, -2.8938e+00, -7.7275e-02,  ...,  8.0814e-02,\n",
       "         -4.6978e-01,  1.3513e+00],\n",
       "        [ 1.1136e+00, -1.5201e-01,  6.6154e-01,  ...,  1.6172e-01,\n",
       "         -1.2437e+00,  1.9391e-02],\n",
       "        ...,\n",
       "        [ 1.8621e+00, -1.5164e+00, -5.8971e-03,  ...,  8.6902e-01,\n",
       "         -1.3829e+00, -9.3980e-01],\n",
       "        [-1.6824e+00,  2.8938e-01,  1.1952e-03,  ...,  1.5596e+00,\n",
       "          4.0327e-01, -1.5363e+00],\n",
       "        [-3.6657e-01, -4.0444e-01, -4.6399e-02,  ...,  7.5593e-01,\n",
       "         -7.6957e-02, -3.8743e-01]])"
      ]
     },
     "execution_count": 113,
     "metadata": {},
     "output_type": "execute_result"
    }
   ],
   "source": [
    "tensor = torch.randn(32, 32)\n",
    "tensor.cuda() #not inplace\n",
    "tensor"
   ]
  },
  {
   "cell_type": "code",
   "execution_count": 112,
   "metadata": {},
   "outputs": [
    {
     "data": {
      "text/plain": [
       "Sequential(\n",
       "  (0): Linear(in_features=4, out_features=512, bias=True)\n",
       "  (1): ReLU()\n",
       "  (2): Linear(in_features=512, out_features=2, bias=True)\n",
       "  (3): Softmax(dim=-1)\n",
       ")"
      ]
     },
     "execution_count": 112,
     "metadata": {},
     "output_type": "execute_result"
    }
   ],
   "source": [
    "network = nn.Sequential(\n",
    "    nn.Linear(4, 512),\n",
    "    nn.ReLU(),\n",
    "    nn.Linear(512, 2),\n",
    "    nn.Softmax(dim=-1)\n",
    ")\n",
    "network.cuda() # inplace"
   ]
  },
  {
   "cell_type": "code",
   "execution_count": null,
   "metadata": {},
   "outputs": [],
   "source": []
  }
 ],
 "metadata": {
  "kernelspec": {
   "display_name": "Python 3",
   "language": "python",
   "name": "python3"
  },
  "language_info": {
   "codemirror_mode": {
    "name": "ipython",
    "version": 3
   },
   "file_extension": ".py",
   "mimetype": "text/x-python",
   "name": "python",
   "nbconvert_exporter": "python",
   "pygments_lexer": "ipython3",
   "version": "3.7.3"
  }
 },
 "nbformat": 4,
 "nbformat_minor": 2
}
