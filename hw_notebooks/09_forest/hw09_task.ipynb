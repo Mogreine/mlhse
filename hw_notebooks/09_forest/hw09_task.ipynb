{
 "cells": [
  {
   "cell_type": "markdown",
   "metadata": {
    "id": "1PjQglGj4q54"
   },
   "source": [
    "# Случайные леса\n",
    "__Суммарное количество баллов: 10__\n",
    "\n",
    "__Решение отправлять на `ml.course.practice@gmail.com`__\n",
    "\n",
    "__Тема письма: `[ML][MS][HW09] <ФИ>`, где вместо `<ФИ>` указаны фамилия и имя__\n",
    "\n",
    "В этом задании вам предстоит реализовать ансамбль деревьев решений, известный как случайный лес, применить его к публичным данным пользователей социальной сети Вконтакте, и сравнить его эффективность с ансамблем, предоставляемым библиотекой CatBoost.\n",
    "\n",
    "В результате мы сможем определить, какие подписки пользователей больше всего влияют на определение возраста и пола человека. "
   ]
  },
  {
   "cell_type": "code",
   "execution_count": 10,
   "metadata": {
    "id": "LH5PiGz04q5-"
   },
   "outputs": [],
   "source": [
    "from sklearn.model_selection import train_test_split\n",
    "from sklearn.preprocessing import LabelEncoder\n",
    "import numpy as np\n",
    "import pandas\n",
    "import random\n",
    "import matplotlib.pyplot as plt\n",
    "import matplotlib\n",
    "import copy\n",
    "# from catboost import CatBoostClassifier\n",
    "\n",
    "from typing import Callable, Union, NoReturn, Optional, Dict, Any, List"
   ]
  },
  {
   "cell_type": "code",
   "execution_count": 5,
   "metadata": {
    "id": "bQUJHTjS4q5-"
   },
   "outputs": [],
   "source": [
    "def gini(x):\n",
    "    _, counts = np.unique(x, return_counts=True)\n",
    "    proba = counts / len(x)\n",
    "    return np.sum(proba * (1 - proba))\n",
    "    \n",
    "def entropy(x):\n",
    "    _, counts = np.unique(x, return_counts=True)\n",
    "    proba = counts / len(x)\n",
    "    return -np.sum(proba * np.log2(proba))\n",
    "\n",
    "def gain(left_y, right_y, criterion):\n",
    "    y = np.concatenate((left_y, right_y))\n",
    "    return criterion(y) - (criterion(left_y) * len(left_y) + criterion(right_y) * len(right_y)) / len(y)"
   ]
  },
  {
   "cell_type": "markdown",
   "metadata": {
    "id": "tfxycK0Q4q5_"
   },
   "source": [
    "### Задание 1 (2 балла)\n",
    "Random Forest состоит из деревьев решений. Каждое такое дерево строится на одной из выборок, полученных при помощи bagging. Элементы, которые не вошли в новую обучающую выборку, образуют out-of-bag выборку. Кроме того, в каждом узле дерева мы случайным образом выбираем набор из `max_features` и ищем признак для предиката разбиения только в этом наборе.\n",
    "\n",
    "Сегодня мы будем работать только с бинарными признаками, поэтому нет необходимости выбирать значение признака для разбиения.\n",
    "\n",
    "#### Методы\n",
    "`predict(X)` - возвращает предсказанные метки для элементов выборки `X`\n",
    "\n",
    "#### Параметры конструктора\n",
    "`X, y` - обучающая выборка и соответствующие ей метки классов. Из нее нужно получить выборку для построения дерева при помощи bagging. Out-of-bag выборку нужно запомнить, она понадобится потом.\n",
    "\n",
    "`criterion=\"gini\"` - задает критерий, который будет использоваться при построении дерева. Возможные значения: `\"gini\"`, `\"entropy\"`.\n",
    "\n",
    "`max_depth=None` - ограничение глубины дерева. Если `None` - глубина не ограничена\n",
    "\n",
    "`min_samples_leaf=1` - минимальное количество элементов в каждом листе дерева.\n",
    "\n",
    "`max_features=\"auto\"` - количество признаков, которые могут использоваться в узле. Если `\"auto\"` - равно `sqrt(X.shape[1])`"
   ]
  },
  {
   "cell_type": "code",
   "execution_count": 6,
   "metadata": {
    "id": "8smLW2V_4q5_"
   },
   "outputs": [],
   "source": [
    "class DecisionTreeLeaf:\n",
    "    \"\"\"\n",
    "\n",
    "    Attributes\n",
    "    ----------\n",
    "    y : dict\n",
    "        Словарь, отображающий метки в вероятность того, что объект, попавший в данный лист, принадлжит классу,\n",
    "         соответствующиему метке.\n",
    "    \"\"\"\n",
    "    def __init__(self, y_arr, n_classes):\n",
    "        values, counts = np.unique(y_arr, return_counts=True)\n",
    "        counts = counts / len(y_arr)\n",
    "        self.dist = np.zeros(n_classes)\n",
    "        self.dist[values] = counts\n",
    "        # vc_zip = list(zip(values, counts))\n",
    "        # self.preds = dict(vc_zip)\n",
    "        # self.y = max(vc_zip, key=lambda x: x[1])[0]\n",
    "\n",
    "\n",
    "class DecisionTreeNode:\n",
    "    \"\"\"\n",
    "\n",
    "    Attributes\n",
    "    ----------\n",
    "    split_dim : int\n",
    "        Измерение, по которому разбиваем выборку.\n",
    "    split_value : float\n",
    "        Значение, по которому разбираем выборку.\n",
    "    left : Union[DecisionTreeNode, DecisionTreeLeaf]\n",
    "        Поддерево, отвечающее за случай x[split_dim] < split_value.\n",
    "    right : Union[DecisionTreeNode, DecisionTreeLeaf]\n",
    "        Поддерево, отвечающее за случай x[split_dim] >= split_value.\n",
    "    \"\"\"\n",
    "    def __init__(self, split_dim: int, split_value: float,\n",
    "                 left: Union['DecisionTreeNode', DecisionTreeLeaf],\n",
    "                 right: Union['DecisionTreeNode', DecisionTreeLeaf]):\n",
    "        self.split_dim = split_dim\n",
    "        self.split_value = split_value\n",
    "        self.left = left\n",
    "        self.right = right\n",
    "\n",
    "\n",
    "class DecisionTreeClassifier:\n",
    "    \"\"\"\n",
    "    Attributes\n",
    "    ----------\n",
    "    root : Union[DecisionTreeNode, DecisionTreeLeaf]\n",
    "        Корень дерева.\n",
    "\n",
    "    (можете добавлять в класс другие аттрибуты).\n",
    "\n",
    "    \"\"\"\n",
    "\n",
    "    def __init__(self, criterion: str = \"gini\",\n",
    "                 max_depth: Optional[int] = None,\n",
    "                 min_samples_leaf: int = 1.,\n",
    "                 max_features: str = \"auto\"):\n",
    "        \"\"\"\n",
    "        Parameters\n",
    "        ----------\n",
    "        criterion : str\n",
    "            Задает критерий, который будет использоваться при построении дерева.\n",
    "            Возможные значения: \"gini\", \"entropy\".\n",
    "        max_depth : Optional[int]\n",
    "            Ограничение глубины дерева. Если None - глубина не ограничена.\n",
    "        min_samples_leaf : int\n",
    "            Минимальное количество элементов в каждом листе дерева.\n",
    "\n",
    "        \"\"\"\n",
    "        self.root = None\n",
    "        criteria = {\n",
    "            'gini': gini,\n",
    "            'entropy': entropy\n",
    "        }\n",
    "        self.criterion = criteria[criterion]\n",
    "        self.max_depth = max_depth if max_depth is not None else 1_000_000\n",
    "        self.min_samples_leaf = min_samples_leaf\n",
    "        self.max_features = max_features\n",
    "        self.n_classes = None\n",
    "        self.oob_ids_mask = None\n",
    "\n",
    "    def find_best_split(self, X: np.ndarray, y: np.ndarray, allowed_features: np.ndarray):\n",
    "        n, m = X.shape\n",
    "        split_gain, split_value, split_dim = -100, -1, -1\n",
    "        for col in allowed_features:\n",
    "            vals = np.unique(X[:, col])\n",
    "\n",
    "            for val in vals:\n",
    "                mask = X[:, col] < val\n",
    "                left = y[mask]\n",
    "                right = y[~mask]\n",
    "                if len(left) < self.min_samples_leaf or len(right) < self.min_samples_leaf:\n",
    "                    continue\n",
    "                g = gain(left, right, self.criterion)\n",
    "                if g > split_gain:\n",
    "                    split_value = val\n",
    "                    split_dim = col\n",
    "                    split_gain = g\n",
    "\n",
    "        return split_dim, split_value\n",
    "\n",
    "    def build_tree(self, X: np.ndarray, y: np.ndarray, depth):\n",
    "        if depth >= self.max_depth:\n",
    "            return DecisionTreeLeaf(y, self.n_classes)\n",
    "\n",
    "        features = np.random.choice(X.shape[1], self.max_features, replace=False)\n",
    "        split_dim, split_value = self.find_best_split(X, y, features)\n",
    "\n",
    "        if split_dim == -1:\n",
    "            return DecisionTreeLeaf(y, self.n_classes)\n",
    "\n",
    "        mask = X[:, split_dim] < split_value\n",
    "\n",
    "        left = self.build_tree(X[mask], y[mask], depth + 1)\n",
    "        right = self.build_tree(X[~mask], y[~mask], depth + 1)\n",
    "\n",
    "        node = DecisionTreeNode(\n",
    "            split_dim=split_dim,\n",
    "            split_value=split_value,\n",
    "            left=left,\n",
    "            right=right\n",
    "        )\n",
    "\n",
    "        return node\n",
    "\n",
    "    def fit(self, X: np.ndarray, y: np.ndarray) -> NoReturn:\n",
    "        \"\"\"\n",
    "        Строит дерево решений по обучающей выборке.\n",
    "\n",
    "        Parameters\n",
    "        ----------\n",
    "        X : np.ndarray\n",
    "            Обучающая выборка.\n",
    "        y : np.ndarray\n",
    "            Вектор меток классов.\n",
    "        \"\"\"\n",
    "        self.n_classes = np.unique(y).shape[0]\n",
    "        self.max_features = int(np.ceil(np.sqrt(X.shape[1]))) if self.max_features == 'auto' else self.max_features\n",
    "        self.root = self.build_tree(X, y, 0)\n",
    "\n",
    "    def walk_down(self, node: Union[DecisionTreeNode, DecisionTreeLeaf], x):\n",
    "        if type(node) is DecisionTreeLeaf:\n",
    "            return node.dist\n",
    "        split_value = node.split_value\n",
    "        split_dim = node.split_dim\n",
    "        if x[split_dim] < split_value:\n",
    "            return self.walk_down(node.left, x)\n",
    "        else:\n",
    "            return self.walk_down(node.right, x)\n",
    "\n",
    "    def predict_proba(self, X: np.ndarray) -> List[Dict[Any, float]]:\n",
    "        \"\"\"\n",
    "        Предсказывает вероятность классов для элементов из X.\n",
    "\n",
    "        Parameters\n",
    "        ----------\n",
    "        X : np.ndarray\n",
    "            Элементы для предсказания.\n",
    "\n",
    "        Return\n",
    "        ------\n",
    "        List[Dict[Any, float]]\n",
    "            Для каждого элемента из X возвращает словарь\n",
    "            {метка класса -> вероятность класса}.\n",
    "        \"\"\"\n",
    "        preds = [self.walk_down(self.root, x) for x in X]\n",
    "        return preds\n",
    "\n",
    "    def predict(self, X: np.ndarray) -> np.ndarray:\n",
    "        \"\"\"\n",
    "        Предсказывает классы для элементов X.\n",
    "\n",
    "        Parameters\n",
    "        ----------\n",
    "        X : np.ndarray\n",
    "            Элементы для предсказания.\n",
    "\n",
    "        Return\n",
    "        ------\n",
    "        list\n",
    "            Вектор предсказанных меток для элементов X.\n",
    "        \"\"\"\n",
    "        proba = self.predict_proba(X)\n",
    "        proba = np.argmax(proba, axis=1)\n",
    "        return proba"
   ]
  },
  {
   "cell_type": "markdown",
   "metadata": {
    "id": "9oijgwLt4q6A"
   },
   "source": [
    "### Задание 2 (2 балла)\n",
    "Теперь реализуем сам Random Forest. Идея очень простая: строим `n` деревьев, а затем берем модальное предсказание.\n",
    "\n",
    "#### Параметры конструктора\n",
    "`n_estimators` - количество используемых для предсказания деревьев.\n",
    "\n",
    "Остальное - параметры деревьев.\n",
    "\n",
    "#### Методы\n",
    "`fit(X, y)` - строит `n_estimators` деревьев по выборке `X`.\n",
    "\n",
    "`predict(X)` - для каждого элемента выборки `X` возвращает самый частый класс, который предсказывают для него деревья."
   ]
  },
  {
   "cell_type": "code",
   "execution_count": 7,
   "metadata": {
    "id": "APIy88YW4q6A"
   },
   "outputs": [],
   "source": [
    "class RandomForestClassifier:\n",
    "    def __init__(self, criterion=\"gini\", max_depth=None, min_samples_leaf=1, max_features=\"auto\", n_estimators=10):\n",
    "        self.criterion = criterion\n",
    "        self.max_depth = max_depth\n",
    "        self.min_samples_leaf = min_samples_leaf\n",
    "        self.max_features = max_features\n",
    "        self.n_estimators = n_estimators\n",
    "\n",
    "        self.trees = [DecisionTreeClassifier(\n",
    "            criterion=self.criterion,\n",
    "            max_depth=self.max_depth,\n",
    "            min_samples_leaf=self.min_samples_leaf,\n",
    "            max_features=self.max_features\n",
    "        ) for _ in range(self.n_estimators)]\n",
    "        self.n_classes = None\n",
    "        self.label_encoder = LabelEncoder()\n",
    "        self.out_bag_inds = np.ndarray\n",
    "\n",
    "    def fit(self, X, y):\n",
    "        n, m = X.shape\n",
    "\n",
    "        self.n_classes = np.unique(y).shape[0]\n",
    "        y = self.label_encoder.fit_transform(y)\n",
    "\n",
    "        for i in range(len(self.trees)):\n",
    "            out_bag_inds = np.zeros(n, dtype='bool')\n",
    "            ids = np.random.randint(n, size=n)\n",
    "            ids_uniq = np.unique(ids)\n",
    "            out_bag_inds[ids_uniq] = True\n",
    "            self.trees[i].oob_ids_mask = ~out_bag_inds\n",
    "            self.trees[i].fit(X[ids], y[ids])\n",
    "\n",
    "    def predict(self, X):\n",
    "        preds = np.zeros((X.shape[0], self.n_classes))\n",
    "        for tree in self.trees:\n",
    "            preds += tree.predict_proba(X)\n",
    "\n",
    "        preds = np.argmax(preds, axis=1)\n",
    "        preds = self.label_encoder.inverse_transform(preds)\n",
    "        return preds\n"
   ]
  },
  {
   "cell_type": "markdown",
   "metadata": {
    "id": "i80pffMn4q6A"
   },
   "source": [
    "### Задание 3 (2 балла)\n",
    "Часто хочется понимать, насколько большую роль играет тот или иной признак для предсказания класса объекта. Есть различные способы посчитать его важность. Один из простых способов сделать это для Random Forest - посчитать out-of-bag ошибку предсказания `err_oob`, а затем перемешать значения признака `j` и посчитать ее (`err_oob_j`) еще раз. Оценкой важности признака `j` для одного дерева будет разность `err_oob_j - err_oob`, важность для всего леса считается как среднее значение важности по деревьям.\n",
    "\n",
    "Реализуйте функцию `feature_importance`, которая принимает на вход Random Forest и возвращает массив, в котором содержится важность для каждого признака."
   ]
  },
  {
   "cell_type": "code",
   "execution_count": 8,
   "metadata": {
    "id": "rEmVG1Fl4q6B"
   },
   "outputs": [],
   "source": [
    "def feature_importance(rfc: RandomForestClassifier, X: np.ndarray, y: np.ndarray):\n",
    "    n, m = X.shape\n",
    "    importance = np.zeros((rfc.n_estimators, m))\n",
    "    for i in range(len(rfc.trees)):\n",
    "        inds = rfc.trees[i].oob_ids_mask\n",
    "        X_, y_ = X[inds], y[inds]\n",
    "        err_oob = np.mean(rfc.predict(X_) != y_)\n",
    "        for col in range(m):\n",
    "            X_shuffled = X_.copy()\n",
    "            np.random.shuffle(X_shuffled[:, col])\n",
    "            err_oob_col = np.mean(rfc.predict(X_shuffled) != y_)\n",
    "            importance[i, col] = err_oob_col - err_oob\n",
    "\n",
    "    importance = np.mean(importance, axis=0)\n",
    "    return importance\n",
    "\n",
    "def most_important_features(importance, names, k=20):\n",
    "    # Выводит названия k самых важных признаков\n",
    "    idicies = np.argsort(importance)[::-1][:k]\n",
    "    return np.array(names)[idicies]"
   ]
  },
  {
   "cell_type": "markdown",
   "metadata": {
    "id": "JooN_YKm4q6B"
   },
   "source": [
    "Наконец, пришло время протестировать наше дерево на простом синтетическом наборе данных. В результате точность должна быть примерно равна `1.0`, наибольшее значение важности должно быть у признака с индексом `4`, признаки с индексами `2` и `3`  должны быть одинаково важны, а остальные признаки - не важны совсем."
   ]
  },
  {
   "cell_type": "code",
   "execution_count": 12,
   "metadata": {
    "id": "8gqYMp994q6B"
   },
   "outputs": [
    {
     "name": "stdout",
     "output_type": "stream",
     "text": [
      "Accuracy: 1.0\n",
      "Importance: [0.         0.         0.19167063 0.19602083 0.44358922 0.        ]\n"
     ]
    }
   ],
   "source": [
    "def synthetic_dataset(size):\n",
    "    X = [(np.random.randint(0, 2), np.random.randint(0, 2), i % 6 == 3, \n",
    "          i % 6 == 0, i % 3 == 2, np.random.randint(0, 2)) for i in range(size)]\n",
    "    y = [i % 3 for i in range(size)]\n",
    "    return np.array(X), np.array(y)\n",
    "\n",
    "X, y = synthetic_dataset(1000)\n",
    "rfc = RandomForestClassifier(n_estimators=100)\n",
    "rfc.fit(X, y)\n",
    "print(\"Accuracy:\", np.mean(rfc.predict(X) == y))\n",
    "print(\"Importance:\", feature_importance(rfc, X, y))"
   ]
  },
  {
   "cell_type": "markdown",
   "metadata": {
    "id": "vRtGOs164q6C"
   },
   "source": [
    "### Задание 4 (1 балл)\n",
    "Теперь поработаем с реальными данными.\n",
    "\n",
    "Выборка состоит из публичных анонимизированных данных пользователей социальной сети Вконтакте. Первые два столбца отражают возрастную группу (`zoomer`, `doomer` и `boomer`) и пол (`female`, `male`). Все остальные столбцы являются бинарными признаками, каждый из них определяет, подписан ли пользователь на определенную группу/публичную страницу или нет.\\\n",
    "\\\n",
    "Необходимо обучить два классификатора, один из которых определяет возрастную группу, а второй - пол.\\\n",
    "\\\n",
    "Эксперименты с множеством используемых признаков и подбор гиперпараметров приветствуются. Лес должен строиться за какое-то разумное время."
   ]
  },
  {
   "cell_type": "code",
   "execution_count": 13,
   "metadata": {
    "id": "HruobK-q4q6C"
   },
   "outputs": [],
   "source": [
    "def read_dataset(path):\n",
    "    dataframe = pandas.read_csv(path, header=0)\n",
    "    dataset = dataframe.values.tolist()\n",
    "    random.shuffle(dataset)\n",
    "    y_age = [row[0] for row in dataset]\n",
    "    y_sex = [row[1] for row in dataset]\n",
    "    X = [row[2:] for row in dataset]\n",
    "    \n",
    "    return np.array(X), np.array(y_age), np.array(y_sex), list(dataframe.columns)[2:]"
   ]
  },
  {
   "cell_type": "code",
   "execution_count": 14,
   "metadata": {
    "id": "K0QXWr3b4q6C"
   },
   "outputs": [],
   "source": [
    "X, y_age, y_sex, features = read_dataset(\"vk.csv\")\n",
    "X_train, X_test, y_age_train, y_age_test, y_sex_train, y_sex_test = train_test_split(X, y_age, y_sex, train_size=0.9)"
   ]
  },
  {
   "cell_type": "markdown",
   "metadata": {
    "id": "I0y8J97m4q6C"
   },
   "source": [
    "#### Возраст"
   ]
  },
  {
   "cell_type": "code",
   "execution_count": 16,
   "metadata": {
    "id": "MLJykJZH4q6C"
   },
   "outputs": [
    {
     "name": "stdout",
     "output_type": "stream",
     "text": [
      "Accuracy: 0.6986128625472888\n",
      "Most important features:\n",
      "1. mudakoff\n",
      "2. 4ch\n",
      "3. rhymes\n",
      "4. rapnewrap\n",
      "5. dayvinchik\n",
      "6. ovsyanochan\n",
      "7. styd.pozor\n",
      "8. iwantyou\n",
      "9. bot_maxim\n",
      "10. pravdashowtop\n",
      "11. pixel_stickers\n",
      "12. tumblr_vacuum\n",
      "13. fuck_humor\n",
      "14. vinevinevine\n",
      "15. exclusive_muzic\n",
      "16. leprum\n",
      "17. 40kg\n",
      "18. tnt\n",
      "19. i_d_t\n",
      "20. reflexia_our_feelings\n"
     ]
    }
   ],
   "source": [
    "rfc = RandomForestClassifier(n_estimators=10)\n",
    "\n",
    "rfc.fit(X_train, y_age_train)\n",
    "print(\"Accuracy:\", np.mean(rfc.predict(X_test) == y_age_test))\n",
    "print(\"Most important features:\")\n",
    "for i, name in enumerate(most_important_features(feature_importance(rfc, X_train, y_age_train), features, 20)):\n",
    "    print(str(i+1) + \".\", name)"
   ]
  },
  {
   "cell_type": "markdown",
   "metadata": {
    "id": "cgNpaAKH4q6D"
   },
   "source": [
    "#### Пол"
   ]
  },
  {
   "cell_type": "code",
   "execution_count": 17,
   "metadata": {
    "id": "X-zne5-R4q6D"
   },
   "outputs": [
    {
     "name": "stdout",
     "output_type": "stream",
     "text": [
      "Accuracy: 0.8360655737704918\n",
      "Most important features:\n",
      "1. 40kg\n",
      "2. zerofat\n",
      "3. mudakoff\n",
      "4. girlmeme\n",
      "5. rapnewrap\n",
      "6. modnailru\n",
      "7. 9o_6o_9o\n",
      "8. cook_good\n",
      "9. be.beauty\n",
      "10. be.women\n",
      "11. thesmolny\n",
      "12. 4ch\n",
      "13. femalemem\n",
      "14. i_d_t\n",
      "15. reflexia_our_feelings\n",
      "16. woman.blog\n",
      "17. beauty\n",
      "18. igm\n",
      "19. bon\n",
      "20. sh.cook\n"
     ]
    }
   ],
   "source": [
    "rfc = RandomForestClassifier(n_estimators=10)\n",
    "rfc.fit(X_train, y_sex_train)\n",
    "print(\"Accuracy:\", np.mean(rfc.predict(X_test) == y_sex_test))\n",
    "print(\"Most important features:\")\n",
    "for i, name in enumerate(most_important_features(feature_importance(rfc, X_train, y_sex_train), features, 20)):\n",
    "    print(str(i+1) + \".\", name)"
   ]
  },
  {
   "cell_type": "markdown",
   "metadata": {
    "id": "pxeTQylQ4q6D"
   },
   "source": [
    "### CatBoost\n",
    "В качестве аьтернативы попробуем CatBoost. \n",
    "\n",
    "Устаниовить его можно просто с помощью `pip install catboost`. Туториалы можно найти, например, [здесь](https://catboost.ai/docs/concepts/python-usages-examples.html#multiclassification) и [здесь](https://github.com/catboost/tutorials/blob/master/python_tutorial.ipynb). Главное - не забудьте использовать `loss_function='MultiClass'`.\\\n",
    "\\\n",
    "Сначала протестируйте CatBoost на синтетических данных. Выведите точность и важность признаков."
   ]
  },
  {
   "cell_type": "code",
   "execution_count": null,
   "metadata": {
    "id": "DOqVkEnd4q6D"
   },
   "outputs": [],
   "source": [
    "X, y = synthetic_dataset(1000)\n",
    "print(\"Accuracy:\", np.mean(None == y))\n",
    "print(\"Importance:\", None)"
   ]
  },
  {
   "cell_type": "markdown",
   "metadata": {
    "id": "tcLRsSNG4q6E"
   },
   "source": [
    "### Задание 5 (3 балла)\n",
    "Попробуем применить один из используемых на практике алгоритмов. В этом нам поможет CatBoost. Также, как и реализованный ними RandomForest, применим его для определения пола и возраста пользователей сети Вконтакте, выведите названия наиболее важных признаков так же, как в задании 3.\\\n",
    "\\\n",
    "Эксперименты с множеством используемых признаков и подбор гиперпараметров приветствуются."
   ]
  },
  {
   "cell_type": "code",
   "execution_count": null,
   "metadata": {
    "id": "hJGrQcO-4q6E"
   },
   "outputs": [],
   "source": [
    "X, y_age, y_sex, features = read_dataset(\"vk.csv\")\n",
    "X_train, X_test, y_age_train, y_age_test, y_sex_train, y_sex_test = train_test_split(X, y_age, y_sex, train_size=0.9)\n",
    "X_train, X_eval, y_age_train, y_age_eval, y_sex_train, y_sex_eval = train_test_split(X_train, y_age_train, y_sex_train, train_size=0.8)"
   ]
  },
  {
   "cell_type": "markdown",
   "metadata": {
    "id": "XA5f_8eC4q6E"
   },
   "source": [
    "#### Возраст"
   ]
  },
  {
   "cell_type": "code",
   "execution_count": null,
   "metadata": {
    "id": "qSeUpxPj4q6E"
   },
   "outputs": [],
   "source": [
    "print(\"Accuracy:\", np.mean(None == y_age_test))\n",
    "print(\"Most important features:\")\n",
    "for i, name in enumerate(most_important_features(None, features, 10)):\n",
    "    print(str(i+1) + \".\", name)"
   ]
  },
  {
   "cell_type": "markdown",
   "metadata": {
    "id": "KfYSptm74q6E"
   },
   "source": [
    "#### Пол"
   ]
  },
  {
   "cell_type": "code",
   "execution_count": null,
   "metadata": {
    "id": "4rKa-f6F4q6E"
   },
   "outputs": [],
   "source": [
    "print(\"Accuracy:\", np.mean(None == y_sex_test))\n",
    "print(\"Most important features:\")\n",
    "for i, name in enumerate(most_important_features(None, features, 10)):\n",
    "    print(str(i+1) + \".\", name)"
   ]
  }
 ],
 "metadata": {
  "colab": {
   "collapsed_sections": [],
   "name": "hw09_task.ipynb",
   "provenance": []
  },
  "kernelspec": {
   "display_name": "Python 3",
   "language": "python",
   "name": "python3"
  },
  "language_info": {
   "codemirror_mode": {
    "name": "ipython",
    "version": 3
   },
   "file_extension": ".py",
   "mimetype": "text/x-python",
   "name": "python",
   "nbconvert_exporter": "python",
   "pygments_lexer": "ipython3",
   "version": "3.6.8"
  }
 },
 "nbformat": 4,
 "nbformat_minor": 1
}
